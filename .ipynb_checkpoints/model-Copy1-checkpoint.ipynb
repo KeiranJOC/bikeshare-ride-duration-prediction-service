{
 "cells": [
  {
   "cell_type": "code",
   "execution_count": 3,
   "id": "37beeda2",
   "metadata": {},
   "outputs": [
    {
     "name": "stdout",
     "output_type": "stream",
     "text": [
      "Python 3.9.10\r\n"
     ]
    }
   ],
   "source": [
    "!python -V"
   ]
  },
  {
   "cell_type": "code",
   "execution_count": 14,
   "id": "55e2a3fb",
   "metadata": {},
   "outputs": [],
   "source": [
    "import pickle\n",
    "import zipfile\n",
    "import requests\n",
    "import numpy as np\n",
    "import pandas as pd\n",
    "import seaborn as sns\n",
    "import matplotlib.pyplot as plt\n",
    "\n",
    "from sklearn.model_selection import train_test_split\n",
    "from sklearn.feature_extraction import DictVectorizer\n",
    "from sklearn.linear_model import LinearRegression, Lasso, Ridge\n",
    "from sklearn.metrics import mean_squared_error, mean_absolute_error"
   ]
  },
  {
   "cell_type": "code",
   "execution_count": 5,
   "id": "d944e498",
   "metadata": {},
   "outputs": [],
   "source": [
    "\n",
    "def read_data(url):\n",
    "    \"\"\"\n",
    "    Capital Bikeshare datasets are zipped\n",
    "    We need to download then extract the csv\n",
    "    \"\"\"\n",
    "    zip_path = url.split('/')[-1] \n",
    "    file_name = zip_path.split('.')[0] + '.csv'\n",
    "\n",
    "    req = requests.get(url)\n",
    "\n",
    "    with open(zip_path, 'wb') as f_out:\n",
    "        f_out.write(req.content)\n",
    "\n",
    "    with zipfile.ZipFile(zip_path) as z:\n",
    "        with z.open(file_name) as f:\n",
    "            df = pd.read_csv(f, parse_dates=True)\n",
    "            \n",
    "    categorical_cols = ['rideable_type', 'start_station_id', 'end_station_id']\n",
    "    date_cols = ['started_at', 'ended_at']\n",
    "    \n",
    "    df[categorical_cols] = df[categorical_cols].astype(str)\n",
    "    df[date_cols] = df[date_cols].apply(pd.to_datetime, format='%Y/%m/%d %H:%M:%S')\n",
    "    \n",
    "    df['duration'] = df['ended_at'] - df['started_at']\n",
    "    df['duration'] = df['duration'].apply(lambda x: round(x.total_seconds() / 60, 0))\n",
    "    df['start_end'] = df['start_station_id'] + '_' + df['end_station_id']\n",
    "    \n",
    "    return df"
   ]
  },
  {
   "cell_type": "code",
   "execution_count": 6,
   "id": "eece1ef3",
   "metadata": {},
   "outputs": [],
   "source": [
    "df = read_data('https://s3.amazonaws.com/capitalbikeshare-data/202207-capitalbikeshare-tripdata.zip')"
   ]
  },
  {
   "cell_type": "code",
   "execution_count": 7,
   "id": "30a38fa3",
   "metadata": {},
   "outputs": [],
   "source": [
    "categorical = ['rideable_type', 'start_end']\n",
    "\n",
    "dv = DictVectorizer()\n",
    "target = 'duration'\n",
    "\n",
    "dicts = df[categorical].to_dict(orient='records')\n",
    "x = dv.fit_transform(dicts)\n",
    "y = df[target].values"
   ]
  },
  {
   "cell_type": "code",
   "execution_count": 8,
   "id": "f6bbf2a2",
   "metadata": {},
   "outputs": [
    {
     "data": {
      "text/plain": [
       "((314946, 59522), (78737, 59522), (314946,), (78737,))"
      ]
     },
     "execution_count": 8,
     "metadata": {},
     "output_type": "execute_result"
    }
   ],
   "source": [
    "x_train, x_val, y_train, y_val = train_test_split(x, y, test_size=0.2, shuffle=True, random_state=42)\n",
    "x_train.shape, x_val.shape, y_train.shape, y_val.shape"
   ]
  },
  {
   "cell_type": "code",
   "execution_count": 19,
   "id": "baf0da00",
   "metadata": {},
   "outputs": [
    {
     "data": {
      "text/plain": [
       "193.70306787980553"
      ]
     },
     "execution_count": 19,
     "metadata": {},
     "output_type": "execute_result"
    }
   ],
   "source": [
    "lr = Ridge()\n",
    "lr.fit(x_train, y_train)\n",
    "\n",
    "y_pred = lr.predict(x_val)\n",
    "\n",
    "mean_squared_error(y_val, y_pred, squared=False)"
   ]
  },
  {
   "cell_type": "code",
   "execution_count": 18,
   "id": "6bf96b1d",
   "metadata": {},
   "outputs": [],
   "source": [
    "with open('ridge.bin', 'wb') as f_out:\n",
    "    pickle.dump((dv, lr), f_out)"
   ]
  }
 ],
 "metadata": {
  "kernelspec": {
   "display_name": "Python 3",
   "language": "python",
   "name": "python3"
  },
  "language_info": {
   "codemirror_mode": {
    "name": "ipython",
    "version": 3
   },
   "file_extension": ".py",
   "mimetype": "text/x-python",
   "name": "python",
   "nbconvert_exporter": "python",
   "pygments_lexer": "ipython3",
   "version": "3.9.12"
  }
 },
 "nbformat": 4,
 "nbformat_minor": 5
}
